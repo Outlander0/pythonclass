{
 "cells": [
  {
   "cell_type": "markdown",
   "metadata": {},
   "source": [
    "# Name: Tariq scott\n",
    "# CS100 / Spring 2019\n",
    "# Homework 1 \n",
    "\n",
    "Here is a list of questions that i have from the project.\n",
    "1. \n",
    "\n",
    "\n",
    "\n",
    "\n",
    "\n"
   ]
  },
  {
   "cell_type": "code",
   "execution_count": 1,
   "metadata": {},
   "outputs": [
    {
     "name": "stdout",
     "output_type": "stream",
     "text": [
      "[]\n"
     ]
    }
   ],
   "source": [
    "r = [] \n",
    "print(r)"
   ]
  },
  {
   "cell_type": "code",
   "execution_count": 2,
   "metadata": {},
   "outputs": [
    {
     "name": "stdout",
     "output_type": "stream",
     "text": [
      "[150]\n"
     ]
    }
   ],
   "source": [
    "r.append(150)\n",
    "print(r)"
   ]
  },
  {
   "cell_type": "code",
   "execution_count": 3,
   "metadata": {},
   "outputs": [
    {
     "name": "stdout",
     "output_type": "stream",
     "text": [
      "[150, 225]\n"
     ]
    }
   ],
   "source": [
    "r.append(225)\n",
    "print(r)"
   ]
  },
  {
   "cell_type": "code",
   "execution_count": 4,
   "metadata": {},
   "outputs": [
    {
     "name": "stdout",
     "output_type": "stream",
     "text": [
      "[150, 225, 150]\n"
     ]
    }
   ],
   "source": [
    "r.append(r[0]%r[1])\n",
    "print(r)"
   ]
  },
  {
   "cell_type": "code",
   "execution_count": 5,
   "metadata": {},
   "outputs": [
    {
     "name": "stdout",
     "output_type": "stream",
     "text": [
      "[150, 225, 150, 75]\n"
     ]
    }
   ],
   "source": [
    "r.append(r[1]%r[2])\n",
    "print(r)"
   ]
  },
  {
   "cell_type": "code",
   "execution_count": 6,
   "metadata": {},
   "outputs": [
    {
     "name": "stdout",
     "output_type": "stream",
     "text": [
      "[150, 225, 150, 75, 0]\n"
     ]
    }
   ],
   "source": [
    "r.append(r[2]%r[3])\n",
    "print(r)"
   ]
  },
  {
   "cell_type": "code",
   "execution_count": 7,
   "metadata": {},
   "outputs": [
    {
     "name": "stdout",
     "output_type": "stream",
     "text": [
      "The remainder list is r = [150, 225, 150, 75, 0]\n",
      "gcd = 75\n",
      "len = [150, 225, 150, 75, 0]\n"
     ]
    }
   ],
   "source": [
    "a = 150\n",
    "b = 225\n",
    "r = []\n",
    "r.append(a)\n",
    "r.append(b)\n",
    "i = 1\n",
    "while r[i]!=0:\n",
    "    r.append(r[i-1]%r[i])\n",
    "    i = i+1\n",
    "g = r[-2] \n",
    "print(\"The remainder list is r =\", r)\n",
    "print(\"gcd =\", g)\n",
    "print (\"len =\",r)"
   ]
  },
  {
   "cell_type": "code",
   "execution_count": null,
   "metadata": {},
   "outputs": [],
   "source": []
  }
 ],
 "metadata": {
  "kernelspec": {
   "display_name": "Python 3",
   "language": "python",
   "name": "python3"
  },
  "language_info": {
   "codemirror_mode": {
    "name": "ipython",
    "version": 3
   },
   "file_extension": ".py",
   "mimetype": "text/x-python",
   "name": "python",
   "nbconvert_exporter": "python",
   "pygments_lexer": "ipython3",
   "version": "3.7.2"
  }
 },
 "nbformat": 4,
 "nbformat_minor": 2
}
